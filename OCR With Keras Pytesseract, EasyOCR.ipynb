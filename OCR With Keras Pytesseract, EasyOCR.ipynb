{
  "cells": [
    {
      "cell_type": "code",
      "source": [
        "#OCR Text Recognition: Keras_OCR vs Pytesseract vs EasyOCR"
      ],
      "metadata": {
        "id": "UdhiJ-g3ZsQ6"
      },
      "id": "UdhiJ-g3ZsQ6",
      "execution_count": null,
      "outputs": []
    },
    {
      "cell_type": "code",
      "execution_count": null,
      "id": "fbabaf06",
      "metadata": {
        "execution": {
          "iopub.execute_input": "2024-04-21T15:20:06.428840Z",
          "iopub.status.busy": "2024-04-21T15:20:06.428526Z",
          "iopub.status.idle": "2024-04-21T15:20:06.432882Z",
          "shell.execute_reply": "2024-04-21T15:20:06.432168Z"
        },
        "id": "fbabaf06",
        "papermill": {
          "duration": 0.019144,
          "end_time": "2024-04-21T15:20:06.434781",
          "exception": false,
          "start_time": "2024-04-21T15:20:06.415637",
          "status": "completed"
        },
        "tags": []
      },
      "outputs": [],
      "source": [
        "! pip install -q kaggle\n",
        "! kaggle datasets download -d robikscube/textocr-text-extraction-from-images-dataset\n",
        "!unzip textocr-text-extraction-from-images-dataset.zip"
      ]
    },
    {
      "cell_type": "code",
      "execution_count": null,
      "id": "c66ca87e",
      "metadata": {
        "execution": {
          "iopub.execute_input": "2024-04-21T15:20:06.689332Z",
          "iopub.status.busy": "2024-04-21T15:20:06.689103Z",
          "iopub.status.idle": "2024-04-21T15:20:07.367290Z",
          "shell.execute_reply": "2024-04-21T15:20:07.366408Z"
        },
        "id": "c66ca87e",
        "papermill": {
          "duration": 0.693225,
          "end_time": "2024-04-21T15:20:07.369646",
          "exception": false,
          "start_time": "2024-04-21T15:20:06.676421",
          "status": "completed"
        },
        "tags": []
      },
      "outputs": [],
      "source": [
        "import numpy as np\n",
        "import pandas as pd\n",
        "from glob import glob\n",
        "from tqdm.notebook import tqdm\n",
        "import matplotlib.pyplot as plt\n",
        "from PIL import Image"
      ]
    },
    {
      "cell_type": "code",
      "execution_count": null,
      "id": "6627d0f1",
      "metadata": {
        "execution": {
          "iopub.execute_input": "2024-04-21T15:20:07.395440Z",
          "iopub.status.busy": "2024-04-21T15:20:07.394869Z",
          "iopub.status.idle": "2024-04-21T15:20:10.779505Z",
          "shell.execute_reply": "2024-04-21T15:20:10.778514Z"
        },
        "id": "6627d0f1",
        "papermill": {
          "duration": 3.400215,
          "end_time": "2024-04-21T15:20:10.782196",
          "exception": false,
          "start_time": "2024-04-21T15:20:07.381981",
          "status": "completed"
        },
        "tags": []
      },
      "outputs": [],
      "source": [
        "annot = pd.read_parquet(\"//content//annot.parquet\")\n",
        "images = pd.read_parquet(\"//content//img.parquet\")\n",
        "images_fns = glob(\"//content//train_val_images//train_images//*\")"
      ]
    },
    {
      "cell_type": "code",
      "execution_count": null,
      "id": "ec2ca9c7",
      "metadata": {
        "execution": {
          "iopub.execute_input": "2024-04-21T15:20:10.833116Z",
          "iopub.status.busy": "2024-04-21T15:20:10.832825Z",
          "iopub.status.idle": "2024-04-21T15:20:11.330070Z",
          "shell.execute_reply": "2024-04-21T15:20:11.329169Z"
        },
        "id": "ec2ca9c7",
        "papermill": {
          "duration": 0.520156,
          "end_time": "2024-04-21T15:20:11.339700",
          "exception": false,
          "start_time": "2024-04-21T15:20:10.819544",
          "status": "completed"
        },
        "tags": []
      },
      "outputs": [],
      "source": [
        "fig, ax = plt.subplots(figsize=(10, 10))\n",
        "ax.imshow(plt.imread(images_fns[6]))\n",
        "ax.axis('off')\n",
        "plt.show()"
      ]
    },
    {
      "cell_type": "code",
      "execution_count": null,
      "id": "16891af7",
      "metadata": {
        "execution": {
          "iopub.execute_input": "2024-04-21T15:20:11.386703Z",
          "iopub.status.busy": "2024-04-21T15:20:11.386386Z",
          "iopub.status.idle": "2024-04-21T15:20:11.452179Z",
          "shell.execute_reply": "2024-04-21T15:20:11.451219Z"
        },
        "id": "16891af7",
        "papermill": {
          "duration": 0.092352,
          "end_time": "2024-04-21T15:20:11.454276",
          "exception": false,
          "start_time": "2024-04-21T15:20:11.361924",
          "status": "completed"
        },
        "tags": []
      },
      "outputs": [],
      "source": [
        "image_id = images_fns[0].split('/')[-1].rstrip('.jpg')\n",
        "annot.query('image_id == @image_id')"
      ]
    },
    {
      "cell_type": "code",
      "execution_count": null,
      "id": "5309bc7f",
      "metadata": {
        "execution": {
          "iopub.execute_input": "2024-04-21T15:20:11.501083Z",
          "iopub.status.busy": "2024-04-21T15:20:11.500349Z",
          "iopub.status.idle": "2024-04-21T15:20:17.391794Z",
          "shell.execute_reply": "2024-04-21T15:20:17.390456Z"
        },
        "id": "5309bc7f",
        "papermill": {
          "duration": 5.953859,
          "end_time": "2024-04-21T15:20:17.431186",
          "exception": false,
          "start_time": "2024-04-21T15:20:11.477327",
          "status": "completed"
        },
        "tags": []
      },
      "outputs": [],
      "source": [
        "fig, axs = plt.subplots(5, 5, figsize=(20, 20))\n",
        "axs = axs.flatten()\n",
        "for i in range(25):\n",
        "    axs[i].imshow(plt.imread(images_fns[i]))\n",
        "    axs[i].axis('off')\n",
        "    image_id = images_fns[i].split('/')[-1].rstrip('.jpg')\n",
        "    n_annot = len(annot.query('image_id == @image_id'))\n",
        "    axs[i].set_title(f'{image_id} - {n_annot}')\n",
        "plt.show()"
      ]
    },
    {
      "cell_type": "code",
      "source": [
        "#PYTESSERACT\n",
        "!apt-get install tesseract-ocr\n",
        "!pip install pytesseract"
      ],
      "metadata": {
        "id": "7j2G2jMZE4Ws"
      },
      "id": "7j2G2jMZE4Ws",
      "execution_count": null,
      "outputs": []
    },
    {
      "cell_type": "code",
      "source": [
        "pytesseract.pytesseract.tesseract_cmd = r'/usr/bin/tesseract'"
      ],
      "metadata": {
        "id": "tGiZdiU7FP5p"
      },
      "id": "tGiZdiU7FP5p",
      "execution_count": null,
      "outputs": []
    },
    {
      "cell_type": "code",
      "execution_count": null,
      "id": "d207c1d7",
      "metadata": {
        "execution": {
          "iopub.execute_input": "2024-04-21T15:20:17.824550Z",
          "iopub.status.busy": "2024-04-21T15:20:17.824243Z",
          "iopub.status.idle": "2024-04-21T15:20:18.117059Z",
          "shell.execute_reply": "2024-04-21T15:20:18.115911Z"
        },
        "id": "d207c1d7",
        "papermill": {
          "duration": 0.353183,
          "end_time": "2024-04-21T15:20:18.119412",
          "exception": false,
          "start_time": "2024-04-21T15:20:17.766229",
          "status": "completed"
        },
        "tags": []
      },
      "outputs": [],
      "source": [
        "import pytesseract\n",
        "print(pytesseract.image_to_string(images_fns[17], lang='eng'))"
      ]
    },
    {
      "cell_type": "code",
      "execution_count": null,
      "id": "425b3678",
      "metadata": {
        "execution": {
          "iopub.execute_input": "2024-04-21T15:20:18.237313Z",
          "iopub.status.busy": "2024-04-21T15:20:18.236603Z",
          "iopub.status.idle": "2024-04-21T15:20:18.784413Z",
          "shell.execute_reply": "2024-04-21T15:20:18.783606Z"
        },
        "id": "425b3678",
        "papermill": {
          "duration": 0.611483,
          "end_time": "2024-04-21T15:20:18.789339",
          "exception": false,
          "start_time": "2024-04-21T15:20:18.177856",
          "status": "completed"
        },
        "tags": []
      },
      "outputs": [],
      "source": [
        "plt.imshow(plt.imread(images_fns[17]))"
      ]
    },
    {
      "cell_type": "code",
      "execution_count": null,
      "id": "49ad73b1",
      "metadata": {
        "execution": {
          "iopub.execute_input": "2024-04-21T15:20:19.165363Z",
          "iopub.status.busy": "2024-04-21T15:20:19.165045Z",
          "iopub.status.idle": "2024-04-21T15:20:29.132295Z",
          "shell.execute_reply": "2024-04-21T15:20:29.131401Z"
        },
        "id": "49ad73b1",
        "papermill": {
          "duration": 10.031654,
          "end_time": "2024-04-21T15:20:29.134582",
          "exception": false,
          "start_time": "2024-04-21T15:20:19.102928",
          "status": "completed"
        },
        "tags": []
      },
      "outputs": [],
      "source": [
        "#EASY OCR!\n",
        "pip install easyocr\n",
        "import easyocr\n",
        "reader = easyocr.Reader(['en'])"
      ]
    },
    {
      "cell_type": "code",
      "execution_count": null,
      "id": "39ff06c9",
      "metadata": {
        "execution": {
          "iopub.execute_input": "2024-04-21T15:20:29.261665Z",
          "iopub.status.busy": "2024-04-21T15:20:29.260937Z",
          "iopub.status.idle": "2024-04-21T15:20:31.531710Z",
          "shell.execute_reply": "2024-04-21T15:20:31.530911Z"
        },
        "id": "39ff06c9",
        "papermill": {
          "duration": 2.336934,
          "end_time": "2024-04-21T15:20:31.534260",
          "exception": false,
          "start_time": "2024-04-21T15:20:29.197326",
          "status": "completed"
        },
        "tags": []
      },
      "outputs": [],
      "source": [
        "results = reader.readtext(images_fns[11])"
      ]
    },
    {
      "cell_type": "code",
      "execution_count": null,
      "id": "f011ec9b",
      "metadata": {
        "execution": {
          "iopub.execute_input": "2024-04-21T15:20:31.664941Z",
          "iopub.status.busy": "2024-04-21T15:20:31.664241Z",
          "iopub.status.idle": "2024-04-21T15:20:31.692890Z",
          "shell.execute_reply": "2024-04-21T15:20:31.691994Z"
        },
        "id": "f011ec9b",
        "papermill": {
          "duration": 0.09789,
          "end_time": "2024-04-21T15:20:31.694900",
          "exception": false,
          "start_time": "2024-04-21T15:20:31.597010",
          "status": "completed"
        },
        "tags": []
      },
      "outputs": [],
      "source": [
        "pd.DataFrame(results, columns=['bbox','text','conf'])"
      ]
    },
    {
      "cell_type": "code",
      "execution_count": null,
      "id": "33006ad1",
      "metadata": {
        "execution": {
          "iopub.execute_input": "2024-04-21T15:20:31.961524Z",
          "iopub.status.busy": "2024-04-21T15:20:31.961172Z",
          "iopub.status.idle": "2024-04-21T15:20:43.106578Z",
          "shell.execute_reply": "2024-04-21T15:20:43.105786Z"
        },
        "id": "33006ad1",
        "papermill": {
          "duration": 11.209126,
          "end_time": "2024-04-21T15:20:43.108431",
          "exception": false,
          "start_time": "2024-04-21T15:20:31.899305",
          "status": "completed"
        },
        "tags": []
      },
      "outputs": [],
      "source": [
        "reader = easyocr.Reader(['en'], gpu = True)\n",
        "dfs = []\n",
        "for img in tqdm(images_fns[:25]):\n",
        "    result = reader.readtext(img)\n",
        "    img_id = img.split('/')[-1].split('.')[0]\n",
        "    img_df = pd.DataFrame(result, columns=['bbox','text','conf'])\n",
        "    img_df['img_id'] = img_id\n",
        "    dfs.append(img_df)\n",
        "easyocr_df = pd.concat(dfs)"
      ]
    },
    {
      "cell_type": "code",
      "execution_count": null,
      "id": "6c171508",
      "metadata": {
        "execution": {
          "iopub.execute_input": "2024-04-21T15:20:43.237382Z",
          "iopub.status.busy": "2024-04-21T15:20:43.237031Z",
          "iopub.status.idle": "2024-04-21T15:20:48.752866Z",
          "shell.execute_reply": "2024-04-21T15:20:48.751908Z"
        },
        "papermill": {
          "duration": 5.583893,
          "end_time": "2024-04-21T15:20:48.755601",
          "exception": false,
          "start_time": "2024-04-21T15:20:43.171708",
          "status": "completed"
        },
        "tags": [],
        "id": "6c171508"
      },
      "outputs": [],
      "source": [
        "import pytesseract\n",
        "from PIL import Image\n",
        "import cv2\n",
        "\n",
        "dfs = []\n",
        "for img_path in tqdm(images_fns[:25]):\n",
        "    img = Image.open(img_path\n",
        "    text = pytesseract.image_to_string(img)\n",
        "    img_id = img_path.split('/')[-1].split('.')[0]\n",
        "    img_df = pd.DataFrame({'text': [text], 'img_id': [img_id]})\n",
        "    dfs.append(img_df)\n",
        "\n",
        "pytesseract_df = pd.concat(dfs)\n"
      ]
    },
    {
      "cell_type": "code",
      "execution_count": null,
      "id": "8957ec18",
      "metadata": {
        "execution": {
          "iopub.execute_input": "2024-04-21T15:20:49.016502Z",
          "iopub.status.busy": "2024-04-21T15:20:49.016175Z",
          "iopub.status.idle": "2024-04-21T15:20:49.026009Z",
          "shell.execute_reply": "2024-04-21T15:20:49.025230Z"
        },
        "papermill": {
          "duration": 0.073431,
          "end_time": "2024-04-21T15:20:49.027905",
          "exception": false,
          "start_time": "2024-04-21T15:20:48.954474",
          "status": "completed"
        },
        "tags": [],
        "id": "8957ec18"
      },
      "outputs": [],
      "source": [
        "def plot_compare(img_fn, easyocr_df, pytesseract_df):\n",
        "    img_id = img_fn.split('/')[-1].split('.')[0]\n",
        "    fig, axs = plt.subplots(1, 2, figsize=(15, 10))\n",
        "\n",
        "    easy_results = easyocr_df.query('img_id == @img_id')['text'].values.tolist()\n",
        "    img = cv2.imread(img_fn)\n",
        "    for result in easy_results:\n",
        "        cv2.putText(img, result, (50, 50), cv2.FONT_HERSHEY_SIMPLEX, 1, (0, 255, 0), 2)\n",
        "    axs[0].imshow(cv2.cvtColor(img, cv2.COLOR_BGR2RGB))\n",
        "    axs[0].set_title('EasyOCR Results', fontsize=24)\n",
        "    axs[0].axis('off')\n",
        "\n",
        "    pytesseract_results = pytesseract_df.query('img_id == @img_id')['text'].values.tolist()\n",
        "    img = cv2.imread(img_fn)\n",
        "    for result in pytesseract_results:\n",
        "        cv2.putText(img, result, (50, 50), cv2.FONT_HERSHEY_SIMPLEX, 1, (0, 255, 0), 2)\n",
        "    axs[1].imshow(cv2.cvtColor(img, cv2.COLOR_BGR2RGB))\n",
        "    axs[1].set_title('Pytesseract Results', fontsize=24)\n",
        "    axs[1].axis('off')\n",
        "\n",
        "    plt.show()\n"
      ]
    },
    {
      "cell_type": "code",
      "execution_count": null,
      "id": "f1a88bba",
      "metadata": {
        "execution": {
          "iopub.execute_input": "2024-04-21T15:20:49.153055Z",
          "iopub.status.busy": "2024-04-21T15:20:49.152696Z",
          "iopub.status.idle": "2024-04-21T15:21:05.967159Z",
          "shell.execute_reply": "2024-04-21T15:21:05.966269Z"
        },
        "papermill": {
          "duration": 16.887943,
          "end_time": "2024-04-21T15:21:05.978411",
          "exception": false,
          "start_time": "2024-04-21T15:20:49.090468",
          "status": "completed"
        },
        "tags": [],
        "id": "f1a88bba"
      },
      "outputs": [],
      "source": [
        "# EASY OCR vs PYTESSERACT\n",
        "for img_fn in images_fns[:25]:\n",
        "    plot_compare(img_fn, easyocr_df, pytesseract_df)\n"
      ]
    },
    {
      "cell_type": "code",
      "execution_count": null,
      "id": "68df525a",
      "metadata": {
        "execution": {
          "iopub.execute_input": "2024-04-21T15:21:07.900712Z",
          "iopub.status.busy": "2024-04-21T15:21:07.899631Z",
          "iopub.status.idle": "2024-04-21T15:21:07.904744Z",
          "shell.execute_reply": "2024-04-21T15:21:07.903821Z"
        },
        "id": "68df525a",
        "papermill": {
          "duration": 0.246604,
          "end_time": "2024-04-21T15:21:07.906888",
          "exception": false,
          "start_time": "2024-04-21T15:21:07.660284",
          "status": "completed"
        },
        "tags": []
      },
      "outputs": [],
      "source": [
        "#KERAS OCR\n",
        "from IPython.display import clear_output\n",
        "!pip install keras-ocr\n",
        "clear_output()\n",
        "!apt-get install -y poppler-utils"
      ]
    },
    {
      "cell_type": "code",
      "source": [
        "import keras_ocr\n",
        "pipeline = keras_ocr.pipeline.Pipeline()"
      ],
      "metadata": {
        "id": "9FeLKmWNI_rF"
      },
      "id": "9FeLKmWNI_rF",
      "execution_count": null,
      "outputs": []
    },
    {
      "cell_type": "code",
      "execution_count": null,
      "id": "156b91fc",
      "metadata": {
        "execution": {
          "iopub.execute_input": "2024-04-21T15:21:09.336360Z",
          "iopub.status.busy": "2024-04-21T15:21:09.335985Z",
          "iopub.status.idle": "2024-04-21T15:21:09.340606Z",
          "shell.execute_reply": "2024-04-21T15:21:09.339627Z"
        },
        "id": "156b91fc",
        "papermill": {
          "duration": 0.245296,
          "end_time": "2024-04-21T15:21:09.342641",
          "exception": false,
          "start_time": "2024-04-21T15:21:09.097345",
          "status": "completed"
        },
        "tags": []
      },
      "outputs": [],
      "source": [
        "results = pipeline.recognize([images_fns[17]])"
      ]
    },
    {
      "cell_type": "code",
      "execution_count": null,
      "id": "268ff2f9",
      "metadata": {
        "execution": {
          "iopub.execute_input": "2024-04-21T15:21:09.827778Z",
          "iopub.status.busy": "2024-04-21T15:21:09.827418Z",
          "iopub.status.idle": "2024-04-21T15:21:09.832189Z",
          "shell.execute_reply": "2024-04-21T15:21:09.831021Z"
        },
        "id": "268ff2f9",
        "papermill": {
          "duration": 0.249247,
          "end_time": "2024-04-21T15:21:09.834320",
          "exception": false,
          "start_time": "2024-04-21T15:21:09.585073",
          "status": "completed"
        },
        "tags": []
      },
      "outputs": [],
      "source": [
        "fig, ax = plt.subplots(figsize=(10, 10))\n",
        "keras_ocr.tools.drawAnnotations(plt.imread(images_fns[17]), results[0], ax=ax)\n",
        "ax.set_title('Keras OCR Result Example')\n",
        "plt.show()"
      ]
    },
    {
      "cell_type": "code",
      "execution_count": null,
      "id": "d2e312ff",
      "metadata": {
        "execution": {
          "iopub.execute_input": "2024-04-21T15:21:10.789315Z",
          "iopub.status.busy": "2024-04-21T15:21:10.788320Z",
          "iopub.status.idle": "2024-04-21T15:21:10.794177Z",
          "shell.execute_reply": "2024-04-21T15:21:10.793093Z"
        },
        "id": "d2e312ff",
        "papermill": {
          "duration": 0.245213,
          "end_time": "2024-04-21T15:21:10.796282",
          "exception": false,
          "start_time": "2024-04-21T15:21:10.551069",
          "status": "completed"
        },
        "tags": []
      },
      "outputs": [],
      "source": [
        "dfs = []\n",
        "for img in tqdm(images_fns[:25]):\n",
        "  results = pipeline.recognize([img])\n",
        "  result = results[0]\n",
        "  img_id = img.split('/')[-1].split('.')[0]\n",
        "  img_df = pd.DataFrame(result, columns=['text', 'bbox'])\n",
        "  img_df['img_id'] = img_id\n",
        "  dfs.append(img_df)\n",
        "kerasocr_df = pd.concat(dfs)"
      ]
    },
    {
      "cell_type": "code",
      "execution_count": null,
      "id": "9666d065",
      "metadata": {
        "execution": {
          "iopub.execute_input": "2024-04-21T15:21:11.805478Z",
          "iopub.status.busy": "2024-04-21T15:21:11.804437Z",
          "iopub.status.idle": "2024-04-21T15:21:11.813891Z",
          "shell.execute_reply": "2024-04-21T15:21:11.812811Z"
        },
        "id": "9666d065",
        "papermill": {
          "duration": 0.285922,
          "end_time": "2024-04-21T15:21:11.817308",
          "exception": false,
          "start_time": "2024-04-21T15:21:11.531386",
          "status": "completed"
        },
        "tags": []
      },
      "outputs": [],
      "source": [
        "#Easy OCR vs Keras OCR TEST RESULTS COMPARISON\n",
        "def plot_compare(img_fn, easyocr_df, kerasocr_df):\n",
        "     img_id = img_fn.split('/')[-1].split('.')[0]\n",
        "     fig, axs = plt.subplots(1, 2, figsize=(15, 10))\n",
        "\n",
        "     easy_results = easyocr_df.query('img_id == @img_id')[['text','bbox']].values.tolist()\n",
        "     easy_results = [(x[0], np.array(x[1])) for x in easy_results]\n",
        "     keras_ocr.tools.drawAnnotations(plt.imread(img_fn),\n",
        "                                     easy_results, ax=axs[0])\n",
        "     axs[0].set_title('easyocr results', fontsize=24)\n",
        "\n",
        "     keras_results = kerasocr_df.query('img_id == @img_id')[['text','bbox']].values.tolist()\n",
        "     keras_results = [(x[0], np.array(x[1])) for x in keras_results]\n",
        "     keras_ocr.tools.drawAnnotations(plt.imread(img_fn),\n",
        "                                     keras_results, ax=axs[1])\n",
        "     axs[1].set_title('keras_ocr results', fontsize=24)\n",
        "     plt.show()"
      ]
    },
    {
      "cell_type": "code",
      "execution_count": null,
      "id": "ac80cb71",
      "metadata": {
        "execution": {
          "iopub.execute_input": "2024-04-21T15:21:12.334625Z",
          "iopub.status.busy": "2024-04-21T15:21:12.334266Z",
          "iopub.status.idle": "2024-04-21T15:21:12.339009Z",
          "shell.execute_reply": "2024-04-21T15:21:12.337949Z"
        },
        "id": "ac80cb71",
        "papermill": {
          "duration": 0.263171,
          "end_time": "2024-04-21T15:21:12.341526",
          "exception": false,
          "start_time": "2024-04-21T15:21:12.078355",
          "status": "completed"
        },
        "tags": []
      },
      "outputs": [],
      "source": [
        " # Loop over results\n",
        " for img_fn in images_fns[:25]:\n",
        "     plot_compare(img_fn, easyocr_df, kerasocr_df)\n"
      ]
    }
  ],
  "metadata": {
    "accelerator": "GPU",
    "colab": {
      "gpuType": "T4",
      "provenance": []
    },
    "kaggle": {
      "accelerator": "nvidiaTeslaT4",
      "dataSources": [
        {
          "datasetId": 2327240,
          "sourceId": 3919937,
          "sourceType": "datasetVersion"
        }
      ],
      "dockerImageVersionId": 30684,
      "isGpuEnabled": true,
      "isInternetEnabled": true,
      "language": "python",
      "sourceType": "notebook"
    },
    "kernelspec": {
      "display_name": "Python 3",
      "language": "python",
      "name": "python3"
    },
    "language_info": {
      "codemirror_mode": {
        "name": "ipython",
        "version": 3
      },
      "file_extension": ".py",
      "mimetype": "text/x-python",
      "name": "python",
      "nbconvert_exporter": "python",
      "pygments_lexer": "ipython3",
      "version": "3.8.10"
    },
    "papermill": {
      "default_parameters": {},
      "duration": 72.097901,
      "end_time": "2024-04-21T15:21:15.897998",
      "environment_variables": {},
      "exception": null,
      "input_path": "__notebook__.ipynb",
      "output_path": "__notebook__.ipynb",
      "parameters": {},
      "start_time": "2024-04-21T15:20:03.800097",
      "version": "2.5.0"
    }
  },
  "nbformat": 4,
  "nbformat_minor": 5
}